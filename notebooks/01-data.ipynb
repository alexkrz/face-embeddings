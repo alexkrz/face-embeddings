{
 "cells": [
  {
   "cell_type": "code",
   "execution_count": null,
   "metadata": {},
   "outputs": [],
   "source": [
    "import os\n",
    "import sys\n",
    "from pathlib import Path\n",
    "\n",
    "import matplotlib.pyplot as plt\n",
    "import numpy as np\n",
    "import torch\n",
    "from torch.utils.data import DataLoader, Dataset\n",
    "from torchvision import transforms\n",
    "\n",
    "sys.path.append(os.path.abspath(\"../\"))\n",
    "\n",
    "from src.datamodule import MXFaceDataset\n",
    "\n",
    "%load_ext autoreload\n",
    "%autoreload 2"
   ]
  },
  {
   "cell_type": "code",
   "execution_count": null,
   "metadata": {},
   "outputs": [],
   "source": [
    "root_dir = Path(os.environ[\"DATASET_DIR\"]) / \"FIQA-Datasets\" / \"TrainDatasets\" / \"casia_webface\"\n",
    "transform = transforms.Compose(\n",
    "    [\n",
    "        # transforms.ToPILImage(),\n",
    "        transforms.ToTensor(),\n",
    "    ]\n",
    ")\n",
    "dataset = MXFaceDataset(root_dir=str(root_dir), transform=transform)\n",
    "print(f\"Number of images in dataset: {len(dataset):,}\")\n",
    "# We assume that the data is sorted. Therefore we acces the last element to find out the number of identities\n",
    "img, label = dataset[-1]\n",
    "print(f\"Number of identities in dataset: {label.item() + 1:,}\")\n",
    "print(f\"img: {type(img)}, label: {type(label)}\")"
   ]
  },
  {
   "cell_type": "code",
   "execution_count": null,
   "metadata": {},
   "outputs": [],
   "source": [
    "BATCH_SIZE = 16\n",
    "dataloader = DataLoader(\n",
    "    dataset=dataset,\n",
    "    batch_size=BATCH_SIZE,\n",
    "    shuffle=True,\n",
    "    num_workers=0,  # Load data only from the main process\n",
    ")\n",
    "batch = next(iter(dataloader))\n",
    "x, y = batch\n",
    "print(x.shape)"
   ]
  },
  {
   "cell_type": "code",
   "execution_count": null,
   "metadata": {},
   "outputs": [],
   "source": [
    "# Visualize batch\n",
    "fig, axs = plt.subplots(4, 4)\n",
    "fig.subplots_adjust(hspace=0.5, wspace=-0.5)\n",
    "axs = np.ravel(axs)  # convert 2D array to 1D list\n",
    "for i in range(BATCH_SIZE):\n",
    "    img = x[i].numpy()\n",
    "    img = img.transpose(1, 2, 0)  # Convert CHW to HWC\n",
    "    label = y[i]  # label is torch.Tensor\n",
    "    axs[i].imshow(img)\n",
    "    axs[i].tick_params(left=False, bottom=False, labelleft=False, labelbottom=False)\n",
    "    axs[i].set_xlabel(label.item())\n",
    "plt.show()"
   ]
  },
  {
   "cell_type": "code",
   "execution_count": null,
   "metadata": {},
   "outputs": [],
   "source": []
  }
 ],
 "metadata": {
  "kernelspec": {
   "display_name": "femb",
   "language": "python",
   "name": "python3"
  },
  "language_info": {
   "codemirror_mode": {
    "name": "ipython",
    "version": 3
   },
   "file_extension": ".py",
   "mimetype": "text/x-python",
   "name": "python",
   "nbconvert_exporter": "python",
   "pygments_lexer": "ipython3",
   "version": "3.10.14"
  }
 },
 "nbformat": 4,
 "nbformat_minor": 2
}
