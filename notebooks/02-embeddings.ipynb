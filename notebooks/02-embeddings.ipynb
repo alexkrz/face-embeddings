{
 "cells": [
  {
   "cell_type": "code",
   "execution_count": null,
   "metadata": {},
   "outputs": [],
   "source": [
    "import os\n",
    "from pathlib import Path\n",
    "from typing import List\n",
    "\n",
    "import matplotlib.pyplot as plt\n",
    "import numpy as np\n",
    "from PIL import Image"
   ]
  },
  {
   "cell_type": "code",
   "execution_count": null,
   "metadata": {},
   "outputs": [],
   "source": [
    "# Plot distribution of embedding lenghts\n",
    "fig, axs = plt.subplots(1, 2, figsize=(12, 5))\n",
    "axs = np.ravel(axs)  # Flatten to 1D array\n",
    "axs: List[plt.Axes]  # Type hinting\n",
    "\n",
    "# Plot Arcface distribution\n",
    "embed_arc = np.array(np.load(\"../results/lfw_arcface-r50.npy\"))\n",
    "# print(embed.shape)\n",
    "ampl_arc = np.linalg.norm(embed_arc, ord=2, axis=1)\n",
    "axs[0].hist(ampl_arc, bins=50, edgecolor=\"black\")\n",
    "axs[0].set_title(\"Arcface\")\n",
    "\n",
    "# Plot Magface distribution\n",
    "embed_mag = np.array(np.load(\"../results/lfw_magface-r50.npy\"))\n",
    "ampl_mag = np.linalg.norm(embed_mag, ord=2, axis=1)\n",
    "axs[1].hist(ampl_mag, bins=50, edgecolor=\"black\")\n",
    "axs[1].set_title(\"Magface\")\n",
    "\n",
    "plt.show()"
   ]
  },
  {
   "cell_type": "code",
   "execution_count": null,
   "metadata": {},
   "outputs": [],
   "source": [
    "# Plot images with highest MagFace embedding magnitude\n",
    "img_list = []\n",
    "with open(\"../results/lfw.txt\", \"r\") as f:\n",
    "    img_list = [line.rstrip(\"\\n\") for line in f]\n",
    "# print(img_list[0])\n",
    "\n",
    "data_p = Path(os.environ[\"DATASET_DIR\"]) / \"EvalDatasets\" / \"lfw\"\n",
    "# img_files = list(data_p.glob(\"*.jpg\"))\n",
    "# print(img_files[0])\n",
    "\n",
    "# Sort magface embeddings by magnitude\n",
    "sort_idx = np.argsort(ampl_mag)\n",
    "print(ampl_mag[sort_idx[-16:]])\n",
    "\n",
    "# Plot images\n",
    "fig, axs = plt.subplots(4, 4)\n",
    "axs = np.ravel(axs)\n",
    "axs: List[plt.Axes]\n",
    "for i in range(len(axs)):\n",
    "    idx = sort_idx[len(sort_idx) - 1 - i]\n",
    "    img_name = img_list[idx]\n",
    "    img = Image.open(data_p / img_name)\n",
    "    axs[i].imshow(img)\n",
    "    axs[i].tick_params(left=False, bottom=False, labelleft=False, labelbottom=False)\n",
    "    axs[i].set_xlabel(f\"{ampl_mag[idx]:.3f}\")\n",
    "fig.tight_layout()\n",
    "plt.show()"
   ]
  },
  {
   "cell_type": "code",
   "execution_count": null,
   "metadata": {},
   "outputs": [],
   "source": []
  }
 ],
 "metadata": {
  "kernelspec": {
   "display_name": "femb",
   "language": "python",
   "name": "python3"
  },
  "language_info": {
   "codemirror_mode": {
    "name": "ipython",
    "version": 3
   },
   "file_extension": ".py",
   "mimetype": "text/x-python",
   "name": "python",
   "nbconvert_exporter": "python",
   "pygments_lexer": "ipython3",
   "version": "3.10.14"
  }
 },
 "nbformat": 4,
 "nbformat_minor": 2
}
